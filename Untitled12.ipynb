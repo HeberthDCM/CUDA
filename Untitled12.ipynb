{
  "nbformat": 4,
  "nbformat_minor": 0,
  "metadata": {
    "colab": {
      "provenance": [],
      "authorship_tag": "ABX9TyM9iA+WtAmjx/OSQn2mo6Ch",
      "include_colab_link": true
    },
    "kernelspec": {
      "name": "python3",
      "display_name": "Python 3"
    },
    "language_info": {
      "name": "python"
    }
  },
  "cells": [
    {
      "cell_type": "markdown",
      "metadata": {
        "id": "view-in-github",
        "colab_type": "text"
      },
      "source": [
        "<a href=\"https://colab.research.google.com/github/HeberthDCM/CUDA/blob/3rama/Untitled12.ipynb\" target=\"_parent\"><img src=\"https://colab.research.google.com/assets/colab-badge.svg\" alt=\"Open In Colab\"/></a>"
      ]
    },
    {
      "cell_type": "code",
      "source": [
        "!pip install nvcc4jupyter\n",
        "%load_ext nvcc4jupyter"
      ],
      "metadata": {
        "colab": {
          "base_uri": "https://localhost:8080/"
        },
        "id": "99rGiC2KCmVH",
        "outputId": "854bf353-2b0e-406f-ca7d-abceba755f42"
      },
      "execution_count": null,
      "outputs": [
        {
          "output_type": "stream",
          "name": "stdout",
          "text": [
            "Requirement already satisfied: nvcc4jupyter in /usr/local/lib/python3.10/dist-packages (1.2.1)\n",
            "The nvcc4jupyter extension is already loaded. To reload it, use:\n",
            "  %reload_ext nvcc4jupyter\n"
          ]
        }
      ]
    },
    {
      "cell_type": "code",
      "source": [
        "!git clone https://github.com/microsoft/vcpkg.git\n",
        "!./vcpkg/bootstrap-vcpkg.sh"
      ],
      "metadata": {
        "colab": {
          "base_uri": "https://localhost:8080/"
        },
        "id": "yBBVyqIcMUSs",
        "outputId": "495f31b9-a196-4265-d228-faa486764803"
      },
      "execution_count": null,
      "outputs": [
        {
          "output_type": "stream",
          "name": "stdout",
          "text": [
            "Cloning into 'vcpkg'...\n",
            "remote: Enumerating objects: 229255, done.\u001b[K\n",
            "remote: Counting objects: 100% (20/20), done.\u001b[K\n",
            "remote: Compressing objects: 100% (12/12), done.\u001b[K\n",
            "remote: Total 229255 (delta 8), reused 16 (delta 8), pack-reused 229235\u001b[K\n",
            "Receiving objects: 100% (229255/229255), 68.02 MiB | 22.01 MiB/s, done.\n",
            "Resolving deltas: 100% (151883/151883), done.\n",
            "Downloading vcpkg-glibc...\n",
            "vcpkg package management program version 2024-03-14-7d353e869753e5609a1f1a057df3db8fd356e49d\n",
            "\n",
            "See LICENSE.txt for license information.\n",
            "Telemetry\n",
            "---------\n",
            "vcpkg collects usage data in order to help us improve your experience.\n",
            "The data collected by Microsoft is anonymous.\n",
            "You can opt-out of telemetry by re-running the bootstrap-vcpkg script with -disableMetrics,\n",
            "passing --disable-metrics to vcpkg on the command line,\n",
            "or by setting the VCPKG_DISABLE_METRICS environment variable.\n",
            "\n",
            "Read more about vcpkg telemetry at docs/about/privacy.md\n"
          ]
        }
      ]
    },
    {
      "cell_type": "code",
      "source": [
        "!./vcpkg/vcpkg install opencv4\n"
      ],
      "metadata": {
        "colab": {
          "base_uri": "https://localhost:8080/"
        },
        "id": "8d1JLsmPMbHn",
        "outputId": "82625809-c2d3-4a7e-c384-7d3d72e4f03d"
      },
      "execution_count": null,
      "outputs": [
        {
          "output_type": "stream",
          "name": "stdout",
          "text": [
            "Computing installation plan...\n",
            "The following packages will be built and installed:\n",
            "  * at-spi2-atk:x64-linux@2.38.0#1\n",
            "  * at-spi2-core:x64-linux@2.44.1#3\n",
            "  * atk:x64-linux@2.38.0#8\n",
            "  * brotli:x64-linux@1.1.0#1\n",
            "  * bzip2[core,tool]:x64-linux@1.0.8#5\n",
            "  * cairo[core,fontconfig,freetype,gobject,x11]:x64-linux@1.18.0\n",
            "  * dbus[core,systemd]:x64-linux@1.15.8#2\n",
            "  * dirent:x64-linux@1.24\n",
            "  * egl-registry:x64-linux@2024-01-25\n",
            "  * flatbuffers:x64-linux@24.3.25\n",
            "  * fontconfig:x64-linux@2.14.2#1\n",
            "  * freetype[brotli,bzip2,core,png,zlib]:x64-linux@2.13.2#1\n",
            "  * fribidi:x64-linux@1.0.13\n",
            "  * gdk-pixbuf:x64-linux@2.42.10#3\n",
            "  * getopt:x64-linux@0#3\n",
            "  * gettext[core,tools]:x64-linux@0.22.5\n",
            "  * gettext-libintl:x64-linux@0.22.5\n",
            "  * glib:x64-linux@2.78.4#1\n",
            "  * gtk3:x64-linux@3.24.38#1\n",
            "  * harfbuzz[core,freetype]:x64-linux@8.4.0\n",
            "  * libepoxy:x64-linux@1.5.10#2\n",
            "  * libffi:x64-linux@3.4.6\n",
            "  * libiconv:x64-linux@1.17#3\n",
            "  * libjpeg-turbo:x64-linux@3.0.2\n",
            "  * libmount:x64-linux@2.40\n",
            "  * libpng:x64-linux@1.6.43\n",
            "  * libsystemd:x64-linux@255#1\n",
            "  * libuuid:x64-linux@1.0.3#14\n",
            "  * libwebp[core,libwebpmux,nearlossless,simd]:x64-linux@1.3.2\n",
            "  * libxcrypt:x64-linux@4.4.36\n",
            "  * libxml2[core,iconv,lzma,zlib]:x64-linux@2.11.7\n",
            "  * lz4:x64-linux@1.9.4#1\n",
            "  * lzo:x64-linux@2.10#9\n",
            "    opencv4[core,default-features,dnn,gtk,jpeg,png,quirc,tiff,webp]:x64-linux@4.8.0#15\n",
            "  * pango:x64-linux@1.50.14#4\n",
            "  * pcre2[core,jit,platform-default-features]:x64-linux@10.42#2\n",
            "  * pixman:x64-linux@0.43.4\n",
            "  * protobuf:x64-linux@3.21.12#2\n",
            "  * pthread:x64-linux@3.0.0#2\n",
            "  * pthreads:x64-linux@3.0.0#14\n",
            "  * quirc:x64-linux@1.2\n",
            "  * tiff[core,jpeg,lzma,zip]:x64-linux@4.6.0#4\n",
            "  * vcpkg-get-python-packages:x64-linux@2024-01-24\n",
            "  * vcpkg-tool-meson:x64-linux@1.3.2#2\n",
            "  * zlib:x64-linux@1.3.1\n",
            "  * zstd:x64-linux@1.5.5#2\n",
            "Additional packages (*) will be modified to complete this operation.\n",
            "Detecting compiler hash for triplet x64-linux...\n",
            "Compiler found: /usr/bin/c++\n",
            "Restored 0 package(s) from /root/.cache/vcpkg/archives in 341 us. Use --debug to see more details.\n",
            "Installing 1/46 libmount:x64-linux@2.40...\n",
            "Building libmount:x64-linux@2.40...\n",
            "-- Using cached util-linux-2.40.tar.xz.\n",
            "-- Cleaning sources at /content/vcpkg/buildtrees/libmount/src/2.40-b5c733b07e.clean. Use --editable to skip cleaning for the packages you specify.\n",
            "-- Extracting source /content/vcpkg/downloads/util-linux-2.40.tar.xz\n",
            "-- Applying patch hide-private-symbols.diff\n",
            "-- Using source at /content/vcpkg/buildtrees/libmount/src/2.40-b5c733b07e.clean\n",
            "-- Getting CMake variables for x64-linux-dbg\n",
            "-- Getting CMake variables for x64-linux-rel\n",
            "-- Generating configure for x64-linux\n",
            "CMake Error at scripts/cmake/vcpkg_execute_required_process.cmake:112 (message):\n",
            "    Command failed: /usr/bin/autoreconf -vfi\n",
            "    Working Directory: /content/vcpkg/buildtrees/libmount/src/2.40-b5c733b07e.clean/\n",
            "    Error code: 2\n",
            "    See logs for more information:\n",
            "      /content/vcpkg/buildtrees/libmount/autoconf-x64-linux-err.log\n",
            "\n",
            "Call Stack (most recent call first):\n",
            "  scripts/cmake/vcpkg_configure_make.cmake:728 (vcpkg_execute_required_process)\n",
            "  ports/libmount/portfile.cmake:25 (vcpkg_configure_make)\n",
            "  scripts/ports.cmake:175 (include)\n",
            "\n",
            "\n",
            "\u001b[91merror: building libmount:x64-linux failed with: BUILD_FAILED\u001b[0m\n",
            "Elapsed time to handle libmount:x64-linux: 6.8 s\n",
            "\u001b[91mPlease ensure you're using the latest port files with `git pull` and `vcpkg update`.\n",
            "Then check for known issues at:\n",
            "  https://github.com/microsoft/vcpkg/issues?q=is%3Aissue+is%3Aopen+in%3Atitle+libmount\n",
            "You can submit a new issue at:\n",
            "  https://github.com/microsoft/vcpkg/issues/new?title=[libmount]+Build+error+on+x64-linux&body=Copy+issue+body+from+%2Fcontent%2Fvcpkg%2Finstalled%2Fvcpkg%2Fissue_body.md\n",
            "\u001b[0m\n"
          ]
        }
      ]
    },
    {
      "cell_type": "code",
      "source": [
        "%%shell\n",
        "apt-get -qq install -y libopencv-dev\n"
      ],
      "metadata": {
        "colab": {
          "base_uri": "https://localhost:8080/"
        },
        "id": "SRLa_JFQCGrg",
        "outputId": "84331c8a-48a6-4c20-b766-aebd679a508a"
      },
      "execution_count": null,
      "outputs": [
        {
          "output_type": "execute_result",
          "data": {
            "text/plain": []
          },
          "metadata": {},
          "execution_count": 18
        }
      ]
    },
    {
      "cell_type": "code",
      "source": [
        "%%cuda\n",
        "#include <opencv2/opencv.hpp>\n",
        "#include <iostream>\n",
        "using namespace cv;\n",
        "using namespace std;\n",
        "\n",
        "\n",
        "int main() {\n",
        "    Mat image = imread(\"tulipan.jpg\");\n",
        "\n",
        "    if (image.empty()) {\n",
        "        cout << \"Error al cargar la imagen\" << endl;\n",
        "        return -1;\n",
        "    }\n",
        "\n",
        "    imshow(\"Imagen\", image);\n",
        "    waitKey(0);\n",
        "\n",
        "    return 0;\n",
        "}"
      ],
      "metadata": {
        "colab": {
          "base_uri": "https://localhost:8080/"
        },
        "id": "rr0XNUxpCRAC",
        "outputId": "31bf8552-71c8-4feb-ddf0-f957669edcd7"
      },
      "execution_count": null,
      "outputs": [
        {
          "output_type": "stream",
          "name": "stdout",
          "text": [
            "/tmp/tmp4umssr64/e566ac66-772f-4a91-b162-cae23c3b8c9d/single_file.cu:1:10: fatal error: opencv2/opencv.hpp: No such file or directory\n",
            "    1 | #include <opencv2/opencv.hpp>\n",
            "      |          ^~~~~~~~~~~~~~~~~~~~\n",
            "compilation terminated.\n",
            "\n"
          ]
        }
      ]
    },
    {
      "cell_type": "code",
      "source": [
        "%%shell\n",
        "g++ -o programa_ejecutable programa.cpp -lopencv_core -lopencv_imgcodecs -lopencv_highgui"
      ],
      "metadata": {
        "id": "lFFKUcm6EMAv"
      },
      "execution_count": null,
      "outputs": []
    }
  ]
}